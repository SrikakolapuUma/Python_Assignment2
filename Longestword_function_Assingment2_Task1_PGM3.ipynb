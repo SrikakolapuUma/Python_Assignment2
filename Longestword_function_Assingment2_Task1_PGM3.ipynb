{
 "cells": [
  {
   "cell_type": "code",
   "execution_count": 3,
   "metadata": {},
   "outputs": [
    {
     "name": "stdout",
     "output_type": "stream",
     "text": [
      "assingments\n"
     ]
    }
   ],
   "source": [
    "from functools import reduce\n",
    "ltr_words=[\"This\" ,\"is\",\"my\",\"python\",\"assingments\"]\n",
    "\n",
    "def longestWord(ltr_words):\n",
    "    return reduce((lambda a,b:b if len (b) > len(a) else a), ltr_words)\n",
    "\n",
    "print (longestWord(ltr_words))"
   ]
  },
  {
   "cell_type": "code",
   "execution_count": 4,
   "metadata": {},
   "outputs": [
    {
     "name": "stdout",
     "output_type": "stream",
     "text": [
      "everychallenging\n"
     ]
    }
   ],
   "source": [
    "from functools import reduce\n",
    "ltr_words=[\"This\" ,\"is\",\"my\",\"python\",\"assingments\",\"everychallenging\"]\n",
    "\n",
    "def longestWord(ltr_words):\n",
    "    return reduce((lambda a,b:b if len (b) > len(a) else a), ltr_words)\n",
    "\n",
    "print (longestWord(ltr_words))"
   ]
  },
  {
   "cell_type": "code",
   "execution_count": null,
   "metadata": {
    "collapsed": true
   },
   "outputs": [],
   "source": []
  }
 ],
 "metadata": {
  "kernelspec": {
   "display_name": "Python 3",
   "language": "python",
   "name": "python3"
  },
  "language_info": {
   "codemirror_mode": {
    "name": "ipython",
    "version": 3
   },
   "file_extension": ".py",
   "mimetype": "text/x-python",
   "name": "python",
   "nbconvert_exporter": "python",
   "pygments_lexer": "ipython3",
   "version": "3.7.3"
  }
 },
 "nbformat": 4,
 "nbformat_minor": 2
}
