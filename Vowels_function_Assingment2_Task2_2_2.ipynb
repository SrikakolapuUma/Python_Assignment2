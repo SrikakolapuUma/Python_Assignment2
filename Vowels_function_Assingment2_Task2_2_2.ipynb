{
 "cells": [
  {
   "cell_type": "code",
   "execution_count": 1,
   "metadata": {},
   "outputs": [
    {
     "name": "stdout",
     "output_type": "stream",
     "text": [
      "Enter the One length String is :e\n",
      "e is a vowel\n"
     ]
    }
   ],
   "source": [
    "def vowel_validation(str1):\n",
    "     if (str1=='a'or str1=='e'or str1=='i'or str1=='o' or str1=='u'):\n",
    "        return True\n",
    "     else:\n",
    "        return False\n",
    "\n",
    "str1=input (\"Enter the One length String is :\")\n",
    "\n",
    "if (str1.isalpha()==False):\n",
    "    exit();\n",
    "    \n",
    "if(vowel_validation(str1)):\n",
    "    print(str1,\"is a vowel\")\n",
    "else:\n",
    "    print(str1,\"is not a vowel\")  "
   ]
  },
  {
   "cell_type": "code",
   "execution_count": 2,
   "metadata": {},
   "outputs": [
    {
     "name": "stdout",
     "output_type": "stream",
     "text": [
      "Enter the One length String is :t\n",
      "t is not a vowel\n"
     ]
    }
   ],
   "source": [
    "def vowel_validation(str1):\n",
    "     if (str1=='a'or str1=='e'or str1=='i'or str1=='o' or str1=='u'):\n",
    "        return True\n",
    "     else:\n",
    "        return False\n",
    "\n",
    "str1=input (\"Enter the One length String is :\")\n",
    "\n",
    "if (str1.isalpha()==False):\n",
    "    exit();\n",
    "    \n",
    "if(vowel_validation(str1)):\n",
    "    print(str1,\"is a vowel\")\n",
    "else:\n",
    "    print(str1,\"is not a vowel\") "
   ]
  },
  {
   "cell_type": "code",
   "execution_count": null,
   "metadata": {},
   "outputs": [],
   "source": []
  }
 ],
 "metadata": {
  "kernelspec": {
   "display_name": "Python 3",
   "language": "python",
   "name": "python3"
  },
  "language_info": {
   "codemirror_mode": {
    "name": "ipython",
    "version": 3
   },
   "file_extension": ".py",
   "mimetype": "text/x-python",
   "name": "python",
   "nbconvert_exporter": "python",
   "pygments_lexer": "ipython3",
   "version": "3.7.3"
  }
 },
 "nbformat": 4,
 "nbformat_minor": 2
}
